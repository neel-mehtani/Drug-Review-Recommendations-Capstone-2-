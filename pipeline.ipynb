{
 "cells": [
  {
   "cell_type": "code",
   "execution_count": 1,
   "metadata": {
    "collapsed": true
   },
   "outputs": [],
   "source": [
    "import nltk\n",
    "from nltk.tokenize import sent_tokenize\n",
    "from nltk.tokenize import word_tokenize\n",
    "from nltk.corpus import stopwords\n",
    "\n",
    "from nlp_pipeline import extract_bow_from_raw_text\n",
    "from nltk.stem.wordnet import WordNetLemmatizer\n",
    "from nltk.stem import PorterStemmer\n",
    "from nltk.stem.snowball import SnowballStemmer\n",
    "\n",
    "from nltk.util import ngrams\n",
    "from nltk import pos_tag\n",
    "\n",
    "from nltk import RegexpParser\n",
    "\n",
    "import os  \n",
    "\n",
    "import unicodedata\n",
    "import sys\n",
    "\n",
    "from collections import Counter\n",
    "\n",
    "from sklearn.feature_extraction.text import TfidfVectorizer\n",
    "from sklearn.feature_extraction.text import CountVectorizer\n",
    "\n",
    "import numpy as np\n",
    "import pandas as pd\n",
    "from math import log\n",
    "import string\n",
    "import matplotlib.pyplot as plt\n",
    "import seaborn as sns\n",
    "import itertools"
   ]
  },
  {
   "cell_type": "code",
   "execution_count": 2,
   "metadata": {
    "collapsed": true
   },
   "outputs": [],
   "source": [
    "def tokenize(documents,stopwords):\n",
    "    #clean out data entries \n",
    "    documents = documents.apply(lambda x: x.replace('\\r', '')) \n",
    "    documents = documents.apply(lambda x: ''.join([i for i in x if not i.isdigit()]))#remove digits\n",
    "    documents= documents.apply(lambda x:  x.replace('`',''))\n",
    "    documents = documents.apply(lambda x: x.lower())\n",
    "    \n",
    "    \n",
    "    punctuation_ = set(string.punctuation)\n",
    "    stopwords_   = set(stopwords.words('english'))\n",
    "    punctuation_.update(['...', '`', '``', \"''\"])\n",
    "    \n",
    "    #convert text entries within Pandas df to a string\n",
    "    \n",
    "    docs = [word_tokenize(content) for content in documents] #tokenize each of the sentences to its word by word elements\n",
    "\n",
    "    #take out punctuation and stopwords\n",
    "    def filter_tokens(sent):\n",
    "        return([w for w in sent if not w in stopwords_ and not w in punctuation_])\n",
    "    docs = list(map(filter_tokens,docs))\n",
    "    \n",
    "    #create Snowball stemmer object instance\n",
    "    snowball = SnowballStemmer(language='english') \n",
    "    \n",
    "    \n",
    "    tokensnow = [[snowball.stem(word) for word in words] for words in docs]\n",
    "\n",
    "    return docs"
   ]
  },
  {
   "cell_type": "code",
   "execution_count": null,
   "metadata": {
    "collapsed": true
   },
   "outputs": [],
   "source": [
    "def vectorize(documents):\n",
    "    '''Input: tokenized documents\n",
    "    Compute Bag-of-Word, TF, TFIDF using sklearn\n",
    "    Return: bow, tf, tfidf'''\n",
    "        \n",
    "    corpus = [' '.join(row) for row in documents]\n",
    "\n",
    "    cv = CountVectorizer(max_features = 2000, ngram_range=(1,1)) #max_features = ?? or argsort?\n",
    "    vect = cv.fit(corpus)\n",
    "    train_vectorized = vect.transform(corpus).toarray()\n",
    "    \n",
    "    bow = cv.vocabulary_\n",
    "    \n",
    "    tv = TfidfVectorizer()\n",
    "    tfidfed = tv.fit(corpus)\n",
    "    train_tfidf = tv.transform(corpus)\n",
    "    \n",
    "    return bow, train_vectorized, train_tfidf "
   ]
  }
 ],
 "metadata": {
  "kernelspec": {
   "display_name": "Python 3",
   "language": "python",
   "name": "python3"
  },
  "language_info": {
   "codemirror_mode": {
    "name": "ipython",
    "version": 3
   },
   "file_extension": ".py",
   "mimetype": "text/x-python",
   "name": "python",
   "nbconvert_exporter": "python",
   "pygments_lexer": "ipython3",
   "version": "3.6.3"
  }
 },
 "nbformat": 4,
 "nbformat_minor": 2
}
